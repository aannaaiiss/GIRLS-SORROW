{
 "cells": [
  {
   "cell_type": "code",
   "execution_count": 25,
   "metadata": {},
   "outputs": [],
   "source": [
    "import os\n",
    "from sklearn.feature_extraction.text import CountVectorizer\n",
    "import numpy as np"
   ]
  },
  {
   "cell_type": "code",
   "execution_count": 2,
   "metadata": {},
   "outputs": [],
   "source": [
    "path = \"../../../L3/S2/stage/\""
   ]
  },
  {
   "cell_type": "code",
   "execution_count": 16,
   "metadata": {},
   "outputs": [],
   "source": [
    "corpus = {\"femmes\" :{}, \"hommes\" :{}}\n",
    "femmes = []\n",
    "hommes = []\n",
    "\n",
    "for filename in os.listdir(path+\"corpus_femmes\") :\n",
    "    with open(f\"{path}corpus_femmes/{filename}\", mode=\"r\", encoding=\"UTF-8\") as file :\n",
    "        [noun,title] = filename.split(\"___\")\n",
    "        femmes.append(noun)\n",
    "        corpus[\"femmes\"][noun] = file.read()\n",
    "        \n",
    "for filename in os.listdir(path+\"corpus_hommes\") :\n",
    "    with open(f\"{path}corpus_hommes/{filename}\", mode=\"r\", encoding=\"UTF-8\") as file :\n",
    "        [noun,title] = filename.split(\"___\")\n",
    "        hommes.append(noun)\n",
    "        corpus[\"hommes\"][noun] = file.read()\n",
    "        "
   ]
  },
  {
   "cell_type": "code",
   "execution_count": 20,
   "metadata": {},
   "outputs": [],
   "source": [
    "def get_freq_matrix(train):\n",
    "    vectorizer = CountVectorizer(analyzer='word')\n",
    "    matrix = vectorizer.fit_transform(train)\n",
    "    tokens = vectorizer.get_feature_names_out()\n",
    "    return matrix, tokens"
   ]
  },
  {
   "cell_type": "code",
   "execution_count": 22,
   "metadata": {},
   "outputs": [],
   "source": [
    "matrix_femmes,vocab_femmes = get_freq_matrix(corpus[\"femmes\"].values())\n",
    "matrix_hommes,vocab_hommes = get_freq_matrix(corpus[\"hommes\"].values())"
   ]
  },
  {
   "cell_type": "code",
   "execution_count": 58,
   "metadata": {},
   "outputs": [],
   "source": [
    "general_count_femmes = np.sum(matrix_femmes.toarray(),axis=0)\n",
    "general_count_hommes = np.sum(matrix_hommes.toarray(),axis=0)\n",
    "\n",
    "n_word_femmes = sum(general_count_femmes)\n",
    "n_word_hommes = sum(general_count_hommes)"
   ]
  },
  {
   "cell_type": "code",
   "execution_count": 29,
   "metadata": {},
   "outputs": [],
   "source": [
    "classement_femmes = sorted(zip(vocab_femmes,general_count_femmes), key=lambda item:item[1], reverse=True)\n",
    "classement_hommes = sorted(zip(vocab_hommes,general_count_hommes), key=lambda item:item[1], reverse=True)\n",
    "\n",
    "dict_femmes = dict(classement_femmes)\n",
    "dict_hommes = dict(classement_hommes)"
   ]
  },
  {
   "cell_type": "code",
   "execution_count": 71,
   "metadata": {},
   "outputs": [],
   "source": [
    "words = [\"tristesse\",\"triste\",\"mélancolie\",\"mélancolique\",\"douleur\",\"douloureux\",\"monsieur\"]"
   ]
  },
  {
   "cell_type": "code",
   "execution_count": 72,
   "metadata": {},
   "outputs": [
    {
     "name": "stdout",
     "output_type": "stream",
     "text": [
      "tristesse \n",
      " 2.27145636844665 \n",
      "\n",
      "triste \n",
      " 1.6873226908921684 \n",
      "\n",
      "mélancolie \n",
      " 1.122164688145677 \n",
      "\n",
      "mélancolique \n",
      " 1.359378103672589 \n",
      "\n",
      "douleur \n",
      " 2.3958531467780655 \n",
      "\n",
      "douloureux \n",
      " 2.8748711358276204 \n",
      "\n",
      "monsieur \n",
      " 0.6699743758177937 \n",
      "\n"
     ]
    }
   ],
   "source": [
    "for word in words :\n",
    "    print(word,\"\\n\",(dict_femmes[word]/n_word_femmes)/(dict_hommes[word]/n_word_hommes),\"\\n\")\n",
    "    "
   ]
  }
 ],
 "metadata": {
  "kernelspec": {
   "display_name": "Python 3",
   "language": "python",
   "name": "python3"
  },
  "language_info": {
   "codemirror_mode": {
    "name": "ipython",
    "version": 3
   },
   "file_extension": ".py",
   "mimetype": "text/x-python",
   "name": "python",
   "nbconvert_exporter": "python",
   "pygments_lexer": "ipython3",
   "version": "3.9.7"
  },
  "orig_nbformat": 4
 },
 "nbformat": 4,
 "nbformat_minor": 2
}
